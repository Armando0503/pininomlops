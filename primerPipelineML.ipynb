{
  "nbformat": 4,
  "nbformat_minor": 0,
  "metadata": {
    "colab": {
      "provenance": []
    },
    "kernelspec": {
      "name": "python3",
      "display_name": "Python 3"
    },
    "language_info": {
      "name": "python"
    }
  },
  "cells": [
    {
      "cell_type": "code",
      "execution_count": null,
      "metadata": {
        "id": "3kWKpQSBz5_c"
      },
      "outputs": [],
      "source": [
        "import pandas as pd\n",
        "import numpy as np\n",
        "import matplotlib.pyplot as plt\n",
        "import torch\n"
      ]
    },
    {
      "cell_type": "markdown",
      "source": [
        "# Generar datos "
      ],
      "metadata": {
        "id": "0KwNCnQc0PT5"
      }
    },
    {
      "cell_type": "code",
      "source": [
        "#generar una línea recta con ruido\n",
        "data_x=np.arange(-5,5,0.1,dtype=float)\n",
        "(n_x) = data_x.size\n",
        "in_w1 = 1.5\n",
        "in_b = 1.33\n",
        "ruido = np.random.randn(n_x)\n",
        "data_y = data_x*in_w1 + in_b #*ruido"
      ],
      "metadata": {
        "id": "R04uFV4J0TCj"
      },
      "execution_count": null,
      "outputs": []
    },
    {
      "cell_type": "code",
      "source": [
        "#graficar\n",
        "plt.plot(data_x,data_y)"
      ],
      "metadata": {
        "id": "RodmIZ560r-2"
      },
      "execution_count": null,
      "outputs": []
    },
    {
      "cell_type": "code",
      "source": [
        "plt.scatter(data_x,data_y)"
      ],
      "metadata": {
        "id": "rKG7XkUnw-dh"
      },
      "execution_count": null,
      "outputs": []
    },
    {
      "cell_type": "code",
      "source": [
        "#guardar al archivo\n",
        "salida = pd.DataFrame( )\n",
        "salida['feature0'] = pd.DataFrame(data_x)\n",
        "salida['label'] = pd.DataFrame(data_y)\n",
        "salida.set_index('feature0')"
      ],
      "metadata": {
        "id": "XQYY7JoC2NDL"
      },
      "execution_count": null,
      "outputs": []
    },
    {
      "cell_type": "code",
      "source": [
        "salida.head()"
      ],
      "metadata": {
        "id": "MTuxBXFO3Ycw"
      },
      "execution_count": null,
      "outputs": []
    },
    {
      "cell_type": "code",
      "source": [
        "salida.info()"
      ],
      "metadata": {
        "id": "Bf79nAVq3ayN"
      },
      "execution_count": null,
      "outputs": []
    },
    {
      "cell_type": "code",
      "source": [
        "salida.to_csv(\"sample.csv\", index=False)"
      ],
      "metadata": {
        "id": "JESEz7Xs3kUT"
      },
      "execution_count": null,
      "outputs": []
    },
    {
      "cell_type": "code",
      "source": [
        "#subir al archivo sample.csv a Google Drive\n",
        "!cat sample.csv"
      ],
      "metadata": {
        "id": "b28XbLLC32mp"
      },
      "execution_count": null,
      "outputs": []
    },
    {
      "cell_type": "markdown",
      "source": [
        "# Ingestar Datos"
      ],
      "metadata": {
        "id": "GbTDrn4b43aQ"
      }
    },
    {
      "cell_type": "code",
      "source": [
        "#dataset=pd.read_csv('https://uc74727dc6f1c80cfcaaea78b73c.dl.dropboxusercontent.com/cd/0/inline/B1nnXKCSKQUkDeh0zCe4HVTbxwKDQQcIhWeSR0b4aH4r08KvF52jYt_hM5fw1nCsuA_xIFl9g7b2L7zxBO3I8OUffVoDPjTichkALgvk4DUF6id5nPw2pohzFtcc3Ouq6eNSPaSuP9Ta2jRAl5zwTn4hXZPhJoITY2J_5S2DDT1dgg/file#;')\n",
        "dataset = pd.read_csv(\"sample.csv\")\n",
        "    \n"
      ],
      "metadata": {
        "id": "sTzLfnKu8Wqx"
      },
      "execution_count": null,
      "outputs": []
    },
    {
      "cell_type": "code",
      "source": [
        "dataset.head(20)"
      ],
      "metadata": {
        "id": "FnRjt-na9T6q"
      },
      "execution_count": null,
      "outputs": []
    },
    {
      "cell_type": "code",
      "source": [
        "plt.plot(dataset['feature0'],dataset['label'])"
      ],
      "metadata": {
        "id": "SjZQ_Rli9F--"
      },
      "execution_count": null,
      "outputs": []
    },
    {
      "cell_type": "code",
      "source": [
        "from sklearn.model_selection import train_test_split\n",
        "\n"
      ],
      "metadata": {
        "id": "-7hGNAh0xXuL"
      },
      "execution_count": null,
      "outputs": []
    },
    {
      "cell_type": "code",
      "source": [
        "(dataset_feature0_train, dataset_feature0_test,dataset_label_train, dataset_label_test )= train_test_split(dataset['feature0'],dataset['label'],test_size=0.3,train_size=0.7)"
      ],
      "metadata": {
        "id": "CyWNF57SxuQV"
      },
      "execution_count": null,
      "outputs": []
    },
    {
      "cell_type": "markdown",
      "source": [
        "# Entrenar"
      ],
      "metadata": {
        "id": "pCCXs2hK9onn"
      }
    },
    {
      "cell_type": "code",
      "source": [
        "def estimate(x,w_1,b_1) :\n",
        "  return w_1*x + b_1"
      ],
      "metadata": {
        "id": "5NWssq-Y9luR"
      },
      "execution_count": null,
      "outputs": []
    },
    {
      "cell_type": "code",
      "source": [
        "def loss(y,y_fit):\n",
        "  return torch.mean((y - y_fit)**2)"
      ],
      "metadata": {
        "id": "-r_n-tLk93Pp"
      },
      "execution_count": null,
      "outputs": []
    },
    {
      "cell_type": "code",
      "source": [
        "def train(features,target,etha,debug=False,iter=100) :\n",
        "   loss_list = []\n",
        "\n",
        "   w_1 = torch.randn(1, requires_grad=True)\n",
        "   b_1 = torch.randn(1, requires_grad=True)\n",
        "\n",
        "   \n",
        "   for i in range(iter):\n",
        "     if debug :\n",
        "       print( i,(w_1.item(),b_1.item()))\n",
        "     \n",
        "     y_fit = estimate(features,w_1,b_1)\n",
        "     if debug:\n",
        "       print( i,y_fit)\n",
        "     L=loss(y_fit,target)\n",
        "     loss_list.append(L.item())\n",
        "     L.backward() \n",
        "     if debug:\n",
        "      print(L.item())\n",
        "      print((w_1.grad.item(),b_1.grad.item()))\n",
        "    # with tr.no_grad():\n",
        "     w_1.data = w_1.data -  w_1.grad.data*etha\n",
        "     b_1.data = b_1.data -  b_1.grad.data*etha\n",
        "     w_1.grad.zero_()\n",
        "     b_1.grad.zero_()\n",
        "   return (w_1.item(),b_1.item(),loss_list) \n",
        "    "
      ],
      "metadata": {
        "id": "vYL_01B5GuBX"
      },
      "execution_count": null,
      "outputs": []
    },
    {
      "cell_type": "code",
      "source": [
        "x_feature = torch.from_numpy(  dataset_feature0_train.to_numpy() )\n",
        "y_label = torch.from_numpy(  dataset_label_train.to_numpy() )"
      ],
      "metadata": {
        "id": "Rwj5p9A4-Odl"
      },
      "execution_count": null,
      "outputs": []
    },
    {
      "cell_type": "code",
      "source": [
        "(e_w_1,e_b_1,e_L)=train(x_feature,y_label,0.00001,debug=False,iter=100000)"
      ],
      "metadata": {
        "id": "GT9UXJH_-EiU"
      },
      "execution_count": null,
      "outputs": []
    },
    {
      "cell_type": "code",
      "source": [
        "plt.xlabel(\"Iteracion\")\n",
        "plt.ylabel(\"Loss\")\n",
        "plt.plot(e_L,'r')"
      ],
      "metadata": {
        "id": "mOE0RsrcFIEl"
      },
      "execution_count": null,
      "outputs": []
    },
    {
      "cell_type": "code",
      "source": [
        "plt.plot(x_feature,y_label,\"g\")\n",
        "plt.plot(x_feature,estimate(x_feature,e_w_1,e_b_1),\"r\")"
      ],
      "metadata": {
        "id": "AzjR9EVOFRr9"
      },
      "execution_count": null,
      "outputs": []
    },
    {
      "cell_type": "code",
      "source": [
        "def MSE_score( y_observada , y_estimada):\n",
        "   return ((y_observada - y_estimada)**2).mean().item()"
      ],
      "metadata": {
        "id": "Ohrxknnd6EEg"
      },
      "execution_count": null,
      "outputs": []
    },
    {
      "cell_type": "code",
      "source": [
        "def R2_score( y_observada , y_estimada):\n",
        "    numerador = ((y_observada - y_estimada)**2).sum()\n",
        "    y_promedio = y_observada.mean()\n",
        "    denominador = ((y_observada - y_promedio)**2).sum()\n",
        "    return (1 - (numerador/denominador)).item()\n"
      ],
      "metadata": {
        "id": "u4M3En73C8hr"
      },
      "execution_count": null,
      "outputs": []
    },
    {
      "cell_type": "code",
      "source": [
        "MSE_score(y_label,estimate(x_feature,e_w_1,e_b_1))"
      ],
      "metadata": {
        "id": "vwxjFmLC6GSs"
      },
      "execution_count": null,
      "outputs": []
    },
    {
      "cell_type": "code",
      "source": [
        "R2_score(y_label,estimate(x_feature,e_w_1,e_b_1))"
      ],
      "metadata": {
        "id": "7zKvwhtKEart"
      },
      "execution_count": null,
      "outputs": []
    },
    {
      "cell_type": "code",
      "source": [
        "print((e_w_1,e_b_1))"
      ],
      "metadata": {
        "id": "S6ofs6_AGRv7"
      },
      "execution_count": null,
      "outputs": []
    },
    {
      "cell_type": "code",
      "source": [
        "#escribir los parametros del modelo a un archivo\n",
        "import pickle\n",
        "ml_params= {\n",
        "    \"w_1\" : e_w_1,\n",
        "    \"b\" : e_b_1\n",
        "}\n",
        "\n",
        "pickle.dump(ml_params,open(\"mlparams\", 'wb') )"
      ],
      "metadata": {
        "id": "vcG-62ZaFa33"
      },
      "execution_count": null,
      "outputs": []
    },
    {
      "cell_type": "code",
      "source": [
        "!cat mlparams"
      ],
      "metadata": {
        "id": "anW6vV85HFMY"
      },
      "execution_count": null,
      "outputs": []
    },
    {
      "cell_type": "code",
      "source": [
        "!od -x mlparams"
      ],
      "metadata": {
        "id": "_CZjIq0dHIPI"
      },
      "execution_count": null,
      "outputs": []
    },
    {
      "cell_type": "markdown",
      "source": [
        "# Validar"
      ],
      "metadata": {
        "id": "zgQgSOooHYU4"
      }
    },
    {
      "cell_type": "code",
      "source": [
        "import pickle\n",
        "ml_param_validate=pickle.load(open(\"mlparams\", 'rb'))"
      ],
      "metadata": {
        "id": "SHEWCjixHblF"
      },
      "execution_count": null,
      "outputs": []
    },
    {
      "cell_type": "code",
      "source": [
        "x_test = torch.from_numpy(  dataset_feature0_test.to_numpy() )\n",
        "y_fit_test= estimate(x_test,ml_param_validate['w_1'],ml_param_validate['b'])\n",
        "y_test = torch.from_numpy(  dataset_label_test.to_numpy() )"
      ],
      "metadata": {
        "id": "umWku-pQ0Qq8"
      },
      "execution_count": null,
      "outputs": []
    },
    {
      "cell_type": "code",
      "source": [
        "plt.plot(x_test,y_fit_test)\n",
        "plt.plot(x_test,y_test)"
      ],
      "metadata": {
        "id": "JO5uVVxS2X34"
      },
      "execution_count": null,
      "outputs": []
    },
    {
      "cell_type": "code",
      "source": [
        "def MSE_score( y_observada , y_estimada):\n",
        "   return ((y_observada - y_estimada)**2).mean().item()"
      ],
      "metadata": {
        "id": "ovRlHBvt3lEk"
      },
      "execution_count": null,
      "outputs": []
    },
    {
      "cell_type": "code",
      "source": [
        "def R2_score( y_observada , y_estimada):\n",
        "    numerador = ((y_observada - y_estimada)**2).sum()\n",
        "    y_promedio = y_observada.mean()\n",
        "    denominador = ((y_observada - y_promedio)**2).sum()\n",
        "    return (1 - (numerador/denominador)).item()\n"
      ],
      "metadata": {
        "id": "vRsw5cZIIBPe"
      },
      "execution_count": null,
      "outputs": []
    },
    {
      "cell_type": "code",
      "source": [
        "R2_score(y_test,y_fit_test)"
      ],
      "metadata": {
        "id": "q0ifShMgICEM"
      },
      "execution_count": null,
      "outputs": []
    },
    {
      "cell_type": "code",
      "source": [
        "MSE_score(y_test,y_fit_test)"
      ],
      "metadata": {
        "id": "ugW-gZ745Rx_"
      },
      "execution_count": null,
      "outputs": []
    },
    {
      "cell_type": "markdown",
      "source": [
        "# Aprovisionar"
      ],
      "metadata": {
        "id": "Atjr_x7G6zsW"
      }
    },
    {
      "cell_type": "code",
      "source": [
        "!pip install boto3"
      ],
      "metadata": {
        "id": "oXYX9e8V67y_"
      },
      "execution_count": null,
      "outputs": []
    },
    {
      "cell_type": "code",
      "source": [
        "import boto3\n",
        "import os"
      ],
      "metadata": {
        "id": "DM1WshZS735q"
      },
      "execution_count": null,
      "outputs": []
    },
    {
      "cell_type": "code",
      "source": [
        "os.environ['AWS_ACCESS_KEY_ID']= 'XXXXXX'\n",
        "os.environ['AWS_SECRET_ACCESS_KEY']= 'XXXXXX'\n",
        "os.environ ['AWS_DEFAULT_REGION']=  'us-east-1'"
      ],
      "metadata": {
        "id": "3yFtfU3686ur"
      },
      "execution_count": null,
      "outputs": []
    },
    {
      "cell_type": "code",
      "source": [
        "ecr_cliente = client = boto3.client('ecr')"
      ],
      "metadata": {
        "id": "L-pAwgGi76ww"
      },
      "execution_count": null,
      "outputs": []
    },
    {
      "cell_type": "code",
      "source": [
        "#crear repositorio para imagen a entrenar\n",
        "client.create_repository(repositoryName='dummylinear')"
      ],
      "metadata": {
        "id": "PGGnmAC_8QiC"
      },
      "execution_count": null,
      "outputs": []
    },
    {
      "cell_type": "code",
      "source": [
        "ecs_cliente = boto3.client('ecs')\n"
      ],
      "metadata": {
        "id": "UCmXmDyyzAsX"
      },
      "execution_count": null,
      "outputs": []
    },
    {
      "cell_type": "code",
      "source": [
        "ecs_cliente.create_cluster( clusterName='dummylinear')"
      ],
      "metadata": {
        "id": "QVCiEoh8_AQ7"
      },
      "execution_count": null,
      "outputs": []
    },
    {
      "cell_type": "code",
      "source": [
        "ecs_cliente.register_task_definition( \n",
        "     family='tskdummylinear2',\n",
        "     cpu ='256',\n",
        "     memory = '512',\n",
        "     requiresCompatibilities= ['FARGATE'],\n",
        "     runtimePlatform = {'cpuArchitecture': 'X86_64', 'operatingSystemFamily': 'LINUX'},\n",
        "     networkMode = 'awsvpc' ,\n",
        "     executionRoleArn = 'arn:aws:iam::740327929864:role/ecsTaskExecutionRole',\n",
        "     containerDefinitions=[\n",
        "         { \n",
        "            'name': 'dummylinear',\n",
        "            'image': '740327929864.dkr.ecr.us-east-1.amazonaws.com/dummylinear',\n",
        "            'portMappings': [{'containerPort': 5000, 'hostPort': 5000, 'protocol': 'tcp', 'name': 'dummylinear-5000-tcp',\n",
        "                              'appProtocol': 'http'}] ,\n",
        "         }\n",
        "     ] ,\n",
        "    \n",
        " )"
      ],
      "metadata": {
        "id": "xXrDb0dCBGm9"
      },
      "execution_count": null,
      "outputs": []
    },
    {
      "cell_type": "code",
      "source": [
        "ecs_cliente.create_service(cluster='dummylinear',\n",
        "                           serviceName='svcdummylinear2',\n",
        "                           taskDefinition='arn:aws:ecs:us-east-1:740327929864:task-definition/tskdummylinear:1',\n",
        "                           launchType ='FARGATE',\n",
        "                           desiredCount=1,\n",
        "                           networkConfiguration= {\n",
        "                               'awsvpcConfiguration': {\n",
        "                                  'assignPublicIp' : 'ENABLED',\n",
        "                                  'securityGroups': ['sg-08ec75aa8b8f7c45b'],\n",
        "                                  'subnets': ['subnet-0d5bef679df57ba9e',\n",
        "                                               'subnet-02efe5c7251ec5212',\n",
        "                                               'subnet-02acd8f884e171a3c',\n",
        "                                               'subnet-08c84ad9ae30a370d',\n",
        "                                               'subnet-0615686222a56563b',\n",
        "                                               'subnet-01c5e49442af85ab1'],\n",
        "                                }   \n",
        "                            }\n",
        "                          )"
      ],
      "metadata": {
        "id": "BFJ_Gx-B0btQ"
      },
      "execution_count": null,
      "outputs": []
    },
    {
      "cell_type": "code",
      "source": [
        "ecs_cliente.describe_task_definition( taskDefinition='tskdummylinear2') "
      ],
      "metadata": {
        "id": "8AH5LNrlCKLd"
      },
      "execution_count": null,
      "outputs": []
    },
    {
      "cell_type": "code",
      "source": [
        "ecs_cliente.describe_services(cluster='dummylinear',services=[\"svcdummylinear\"])"
      ],
      "metadata": {
        "id": "C_qo_Bjpyft5"
      },
      "execution_count": null,
      "outputs": []
    },
    {
      "cell_type": "markdown",
      "source": [
        "# Inferir"
      ],
      "metadata": {
        "id": "0qOTiaLhHx3h"
      }
    },
    {
      "cell_type": "code",
      "source": [
        "import pickle"
      ],
      "metadata": {
        "id": "41KwCnJiKgEA"
      },
      "execution_count": null,
      "outputs": []
    },
    {
      "cell_type": "code",
      "source": [
        "api_mlparams=pickle.load(open(\"mlparams\", 'rb'))"
      ],
      "metadata": {
        "id": "liQ83i4nIT5J"
      },
      "execution_count": null,
      "outputs": []
    },
    {
      "cell_type": "code",
      "source": [
        "!pip install flask==0.12.2"
      ],
      "metadata": {
        "id": "3yVTXmXAKS6V"
      },
      "execution_count": null,
      "outputs": []
    },
    {
      "cell_type": "code",
      "source": [
        "from flask import Flask\n",
        "from flask import request\n",
        "import pickle\n",
        "import logging\n",
        "import sys\n",
        "def predict(x,w_1,b_1) :\n",
        "  return w_1*x + b_1\n",
        "  \n",
        "print(__name__)\n",
        "app = Flask(__name__)\n",
        "api_mlparams=pickle.load(open(\"mlparams\", 'rb'))\n",
        "\n",
        "logging.info(api_mlparams)\n",
        "\n",
        "@app.route('/infer')\n",
        "def infer():\n",
        "   w_1 = api_mlparams['w_1']\n",
        "   b = api_mlparams['b']\n",
        "   reqX = request.args.get('x')\n",
        "   x = float(reqX)\n",
        "   print((x,type(x)),file=sys.stderr)\n",
        "   return {'y':w_1*x  + b}\n",
        "\n",
        "if __name__ == '__main__':\n",
        "    app.run(host='0.0.0.0',debug=False)"
      ],
      "metadata": {
        "id": "ikHJpdtKOzx6"
      },
      "execution_count": null,
      "outputs": []
    }
  ]
}